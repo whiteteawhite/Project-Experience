{
 "cells": [
  {
   "cell_type": "code",
   "execution_count": 2,
   "metadata": {},
   "outputs": [],
   "source": [
    "import itertools\n",
    "import numpy as np\n",
    "import pandas as pd\n",
    "import matplotlib.pyplot as plt\n",
    "import seaborn as sns\n",
    "import geopandas as gpd\n",
    "from shapely.geometry import Point\n",
    "import pickle\n",
    "import sqlite3\n",
    "import datetime as dt\n",
    "import matplotlib.style as style\n",
    "import matplotlib.patches as mpatches\n",
    "%matplotlib inline\n",
    "import warnings\n",
    "warnings.filterwarnings('ignore')"
   ]
  },
  {
   "cell_type": "code",
   "execution_count": 3,
   "metadata": {},
   "outputs": [
    {
     "name": "stderr",
     "output_type": "stream",
     "text": [
      "/Users/yt/anaconda3/lib/python3.6/site-packages/sklearn/externals/joblib/__init__.py:15: DeprecationWarning: sklearn.externals.joblib is deprecated in 0.21 and will be removed in 0.23. Please import this functionality directly from joblib, which can be installed with: pip install joblib. If this warning is raised when loading pickled models, you may need to re-serialize those models with scikit-learn 0.21+.\n",
      "  warnings.warn(msg, category=DeprecationWarning)\n"
     ]
    }
   ],
   "source": [
    "from sklearn.model_selection import train_test_split, cross_val_score, cross_validate, GridSearchCV\n",
    "from sklearn.neighbors import KNeighborsClassifier\n",
    "from sklearn.linear_model import LogisticRegression\n",
    "from sklearn.tree import DecisionTreeClassifier\n",
    "from sklearn import tree\n",
    "from sklearn.ensemble import RandomForestClassifier, GradientBoostingClassifier\n",
    "from sklearn.preprocessing import StandardScaler, LabelEncoder\n",
    "from sklearn.svm import SVC\n",
    "from sklearn import svm\n",
    "from sklearn.neural_network import MLPClassifier\n",
    "from sklearn.metrics import confusion_matrix, classification_report, accuracy_score, precision_score, recall_score, f1_score, roc_curve, auc\n",
    "\n",
    "# pickle model for flask app\n",
    "from sklearn.externals import joblib"
   ]
  },
  {
   "cell_type": "code",
   "execution_count": 5,
   "metadata": {},
   "outputs": [
    {
     "name": "stdout",
     "output_type": "stream",
     "text": [
      "[('spatial_ref_sys',), ('spatialite_history',), ('sqlite_sequence',), ('geometry_columns',), ('spatial_ref_sys_aux',), ('views_geometry_columns',), ('virts_geometry_columns',), ('geometry_columns_statistics',), ('views_geometry_columns_statistics',), ('virts_geometry_columns_statistics',), ('geometry_columns_field_infos',), ('views_geometry_columns_field_infos',), ('virts_geometry_columns_field_infos',), ('geometry_columns_time',), ('geometry_columns_auth',), ('views_geometry_columns_auth',), ('virts_geometry_columns_auth',), ('sql_statements_log',), ('SpatialIndex',), ('ElementaryGeometries',), ('KNN',), ('Fires',), ('idx_Fires_Shape',), ('idx_Fires_Shape_node',), ('idx_Fires_Shape_rowid',), ('idx_Fires_Shape_parent',), ('NWCG_UnitIDActive_20170109',)]\n"
     ]
    }
   ],
   "source": [
    "con = sqlite3.connect(\"FPA_FOD_20170508.sqlite\")\n",
    "cur = con.cursor()\n",
    "cur.execute(\"SELECT name FROM sqlite_master WHERE type='table';\")\n",
    "print(cur.fetchall())"
   ]
  },
  {
   "cell_type": "code",
   "execution_count": 38,
   "metadata": {},
   "outputs": [],
   "source": [
    "test_df = pd.read_sql_query(\"SELECT FIRE_NAME,FIRE_YEAR,DISCOVERY_DOY,CONT_DOY,FIRE_SIZE,FIRE_SIZE_CLASS,LATITUDE,LONGITUDE,STATE, \\\n",
    "                       CONT_DOY-DISCOVERY_DOY AS DAYS, STAT_CAUSE_CODE, STAT_CAUSE_DESCR FROM Fires\", con)"
   ]
  },
  {
   "cell_type": "code",
   "execution_count": 39,
   "metadata": {},
   "outputs": [
    {
     "data": {
      "text/html": [
       "<div>\n",
       "<style scoped>\n",
       "    .dataframe tbody tr th:only-of-type {\n",
       "        vertical-align: middle;\n",
       "    }\n",
       "\n",
       "    .dataframe tbody tr th {\n",
       "        vertical-align: top;\n",
       "    }\n",
       "\n",
       "    .dataframe thead th {\n",
       "        text-align: right;\n",
       "    }\n",
       "</style>\n",
       "<table border=\"1\" class=\"dataframe\">\n",
       "  <thead>\n",
       "    <tr style=\"text-align: right;\">\n",
       "      <th></th>\n",
       "      <th>FIRE_NAME</th>\n",
       "      <th>FIRE_YEAR</th>\n",
       "      <th>DISCOVERY_DOY</th>\n",
       "      <th>CONT_DOY</th>\n",
       "      <th>FIRE_SIZE</th>\n",
       "      <th>FIRE_SIZE_CLASS</th>\n",
       "      <th>LATITUDE</th>\n",
       "      <th>LONGITUDE</th>\n",
       "      <th>STATE</th>\n",
       "      <th>DAYS</th>\n",
       "      <th>STAT_CAUSE_CODE</th>\n",
       "      <th>STAT_CAUSE_DESCR</th>\n",
       "    </tr>\n",
       "  </thead>\n",
       "  <tbody>\n",
       "    <tr>\n",
       "      <td>6473</td>\n",
       "      <td>141</td>\n",
       "      <td>2005</td>\n",
       "      <td>364</td>\n",
       "      <td>3.0</td>\n",
       "      <td>0.30</td>\n",
       "      <td>B</td>\n",
       "      <td>33.576667</td>\n",
       "      <td>-108.729167</td>\n",
       "      <td>NM</td>\n",
       "      <td>-361.0</td>\n",
       "      <td>3.0</td>\n",
       "      <td>Smoking</td>\n",
       "    </tr>\n",
       "    <tr>\n",
       "      <td>6712</td>\n",
       "      <td>BEAVER DAM</td>\n",
       "      <td>2005</td>\n",
       "      <td>364</td>\n",
       "      <td>1.0</td>\n",
       "      <td>3.60</td>\n",
       "      <td>B</td>\n",
       "      <td>30.985556</td>\n",
       "      <td>-89.129444</td>\n",
       "      <td>MS</td>\n",
       "      <td>-363.0</td>\n",
       "      <td>7.0</td>\n",
       "      <td>Arson</td>\n",
       "    </tr>\n",
       "    <tr>\n",
       "      <td>6713</td>\n",
       "      <td>WEDGEWORTH</td>\n",
       "      <td>2005</td>\n",
       "      <td>365</td>\n",
       "      <td>1.0</td>\n",
       "      <td>0.10</td>\n",
       "      <td>A</td>\n",
       "      <td>31.081667</td>\n",
       "      <td>-89.068333</td>\n",
       "      <td>MS</td>\n",
       "      <td>-364.0</td>\n",
       "      <td>7.0</td>\n",
       "      <td>Arson</td>\n",
       "    </tr>\n",
       "    <tr>\n",
       "      <td>17579</td>\n",
       "      <td>MAGGIE</td>\n",
       "      <td>2006</td>\n",
       "      <td>190</td>\n",
       "      <td>345.0</td>\n",
       "      <td>2097.00</td>\n",
       "      <td>F</td>\n",
       "      <td>36.263333</td>\n",
       "      <td>-118.614722</td>\n",
       "      <td>CA</td>\n",
       "      <td>155.0</td>\n",
       "      <td>1.0</td>\n",
       "      <td>Lightning</td>\n",
       "    </tr>\n",
       "    <tr>\n",
       "      <td>17587</td>\n",
       "      <td>TAMARACK</td>\n",
       "      <td>2006</td>\n",
       "      <td>190</td>\n",
       "      <td>345.0</td>\n",
       "      <td>4654.00</td>\n",
       "      <td>F</td>\n",
       "      <td>36.320556</td>\n",
       "      <td>-118.403056</td>\n",
       "      <td>CA</td>\n",
       "      <td>155.0</td>\n",
       "      <td>1.0</td>\n",
       "      <td>Lightning</td>\n",
       "    </tr>\n",
       "    <tr>\n",
       "      <td>...</td>\n",
       "      <td>...</td>\n",
       "      <td>...</td>\n",
       "      <td>...</td>\n",
       "      <td>...</td>\n",
       "      <td>...</td>\n",
       "      <td>...</td>\n",
       "      <td>...</td>\n",
       "      <td>...</td>\n",
       "      <td>...</td>\n",
       "      <td>...</td>\n",
       "      <td>...</td>\n",
       "      <td>...</td>\n",
       "    </tr>\n",
       "    <tr>\n",
       "      <td>1829331</td>\n",
       "      <td>None</td>\n",
       "      <td>2015</td>\n",
       "      <td>95</td>\n",
       "      <td>322.0</td>\n",
       "      <td>0.10</td>\n",
       "      <td>A</td>\n",
       "      <td>47.978904</td>\n",
       "      <td>-95.600082</td>\n",
       "      <td>MN</td>\n",
       "      <td>227.0</td>\n",
       "      <td>5.0</td>\n",
       "      <td>Debris Burning</td>\n",
       "    </tr>\n",
       "    <tr>\n",
       "      <td>1837358</td>\n",
       "      <td>None</td>\n",
       "      <td>2015</td>\n",
       "      <td>355</td>\n",
       "      <td>4.0</td>\n",
       "      <td>0.25</td>\n",
       "      <td>A</td>\n",
       "      <td>40.008400</td>\n",
       "      <td>-74.185200</td>\n",
       "      <td>NJ</td>\n",
       "      <td>-351.0</td>\n",
       "      <td>7.0</td>\n",
       "      <td>Arson</td>\n",
       "    </tr>\n",
       "    <tr>\n",
       "      <td>1848233</td>\n",
       "      <td>FORTNER ROAD FIRE</td>\n",
       "      <td>2015</td>\n",
       "      <td>32</td>\n",
       "      <td>293.0</td>\n",
       "      <td>70.00</td>\n",
       "      <td>C</td>\n",
       "      <td>36.581867</td>\n",
       "      <td>-83.290183</td>\n",
       "      <td>TN</td>\n",
       "      <td>261.0</td>\n",
       "      <td>9.0</td>\n",
       "      <td>Miscellaneous</td>\n",
       "    </tr>\n",
       "    <tr>\n",
       "      <td>1849310</td>\n",
       "      <td>FISH LAKE</td>\n",
       "      <td>2015</td>\n",
       "      <td>168</td>\n",
       "      <td>337.0</td>\n",
       "      <td>145.00</td>\n",
       "      <td>D</td>\n",
       "      <td>47.528600</td>\n",
       "      <td>-117.504000</td>\n",
       "      <td>WA</td>\n",
       "      <td>169.0</td>\n",
       "      <td>9.0</td>\n",
       "      <td>Miscellaneous</td>\n",
       "    </tr>\n",
       "    <tr>\n",
       "      <td>1849638</td>\n",
       "      <td>51ST DR (61)</td>\n",
       "      <td>2015</td>\n",
       "      <td>365</td>\n",
       "      <td>1.0</td>\n",
       "      <td>1.00</td>\n",
       "      <td>B</td>\n",
       "      <td>30.168700</td>\n",
       "      <td>-82.851400</td>\n",
       "      <td>FL</td>\n",
       "      <td>-364.0</td>\n",
       "      <td>9.0</td>\n",
       "      <td>Miscellaneous</td>\n",
       "    </tr>\n",
       "  </tbody>\n",
       "</table>\n",
       "<p>702 rows × 12 columns</p>\n",
       "</div>"
      ],
      "text/plain": [
       "                 FIRE_NAME  FIRE_YEAR  DISCOVERY_DOY  CONT_DOY  FIRE_SIZE  \\\n",
       "6473                   141       2005            364       3.0       0.30   \n",
       "6712            BEAVER DAM       2005            364       1.0       3.60   \n",
       "6713            WEDGEWORTH       2005            365       1.0       0.10   \n",
       "17579               MAGGIE       2006            190     345.0    2097.00   \n",
       "17587             TAMARACK       2006            190     345.0    4654.00   \n",
       "...                    ...        ...            ...       ...        ...   \n",
       "1829331               None       2015             95     322.0       0.10   \n",
       "1837358               None       2015            355       4.0       0.25   \n",
       "1848233  FORTNER ROAD FIRE       2015             32     293.0      70.00   \n",
       "1849310          FISH LAKE       2015            168     337.0     145.00   \n",
       "1849638       51ST DR (61)       2015            365       1.0       1.00   \n",
       "\n",
       "        FIRE_SIZE_CLASS   LATITUDE   LONGITUDE STATE   DAYS  STAT_CAUSE_CODE  \\\n",
       "6473                  B  33.576667 -108.729167    NM -361.0              3.0   \n",
       "6712                  B  30.985556  -89.129444    MS -363.0              7.0   \n",
       "6713                  A  31.081667  -89.068333    MS -364.0              7.0   \n",
       "17579                 F  36.263333 -118.614722    CA  155.0              1.0   \n",
       "17587                 F  36.320556 -118.403056    CA  155.0              1.0   \n",
       "...                 ...        ...         ...   ...    ...              ...   \n",
       "1829331               A  47.978904  -95.600082    MN  227.0              5.0   \n",
       "1837358               A  40.008400  -74.185200    NJ -351.0              7.0   \n",
       "1848233               C  36.581867  -83.290183    TN  261.0              9.0   \n",
       "1849310               D  47.528600 -117.504000    WA  169.0              9.0   \n",
       "1849638               B  30.168700  -82.851400    FL -364.0              9.0   \n",
       "\n",
       "        STAT_CAUSE_DESCR  \n",
       "6473             Smoking  \n",
       "6712               Arson  \n",
       "6713               Arson  \n",
       "17579          Lightning  \n",
       "17587          Lightning  \n",
       "...                  ...  \n",
       "1829331   Debris Burning  \n",
       "1837358            Arson  \n",
       "1848233    Miscellaneous  \n",
       "1849310    Miscellaneous  \n",
       "1849638    Miscellaneous  \n",
       "\n",
       "[702 rows x 12 columns]"
      ]
     },
     "execution_count": 39,
     "metadata": {},
     "output_type": "execute_result"
    }
   ],
   "source": [
    "test_df[(test_df['DAYS']<0) | (test_df['DAYS']>150)]"
   ]
  },
  {
   "cell_type": "code",
   "execution_count": 40,
   "metadata": {},
   "outputs": [],
   "source": [
    "df = pd.read_sql_query(\"SELECT FIRE_NAME,FIRE_YEAR,DISCOVERY_DOY,CONT_DOY,FIRE_SIZE,FIRE_SIZE_CLASS,LATITUDE,LONGITUDE,STATE, \\\n",
    "                       CONT_DOY-DISCOVERY_DOY AS DAYS, STAT_CAUSE_CODE, STAT_CAUSE_DESCR FROM Fires \\\n",
    "                       WHERE FIRE_YEAR > 2012 AND 0 <= DAYS AND DAYS <= 150\", con)\n",
    "df1 = df[:]"
   ]
  },
  {
   "cell_type": "code",
   "execution_count": 9,
   "metadata": {},
   "outputs": [],
   "source": [
    "codes = list(zip(df1['STAT_CAUSE_CODE'].unique(),df1['STAT_CAUSE_DESCR'].unique()))\n",
    "codes.sort(key=lambda x: x[0])"
   ]
  },
  {
   "cell_type": "code",
   "execution_count": 10,
   "metadata": {},
   "outputs": [],
   "source": [
    "df1.loc[:,'CONT_DOY'].fillna(df1.loc[:,'DISCOVERY_DOY'], inplace=True)\n",
    "df1.loc[:,'STATE'] = df1.loc[:,'STATE'].replace(list(df1.loc[:,'STATE'].unique())\n",
    "                                               ,range(len(list(df1.loc[:,'STATE'].unique()))))\n",
    "df1['GEOMETRY'] = df1.apply(lambda x: Point((float(x.LONGITUDE), float(x.LATITUDE))), axis=1)"
   ]
  },
  {
   "cell_type": "code",
   "execution_count": 11,
   "metadata": {},
   "outputs": [],
   "source": [
    "X = df1.loc[:,['FIRE_YEAR','DISCOVERY_DOY','DAYS','FIRE_SIZE','LATITUDE','LONGITUDE','STATE']]\n",
    "y = df1.loc[:,'STAT_CAUSE_CODE']"
   ]
  },
  {
   "cell_type": "code",
   "execution_count": 12,
   "metadata": {},
   "outputs": [],
   "source": [
    "X_train, X_test, y_train, y_test = train_test_split(X, y, test_size=0.30)"
   ]
  },
  {
   "cell_type": "code",
   "execution_count": 13,
   "metadata": {},
   "outputs": [
    {
     "name": "stdout",
     "output_type": "stream",
     "text": [
      "(115411, 7)\n",
      "(49463, 7)\n"
     ]
    }
   ],
   "source": [
    "print(X_train.shape)\n",
    "print(X_test.shape)"
   ]
  },
  {
   "cell_type": "markdown",
   "metadata": {},
   "source": [
    "#applying standard scaling to get optimized result\n",
    "std = StandardScaler()\n",
    "std.fit(X_train)\n",
    "X_tr = std.transform(X_train)\n",
    "X_te = std.transform(X_test)"
   ]
  },
  {
   "cell_type": "markdown",
   "metadata": {},
   "source": [
    "X_train[:5]"
   ]
  },
  {
   "cell_type": "markdown",
   "metadata": {},
   "source": [
    "# Random Forest Classifier"
   ]
  },
  {
   "cell_type": "code",
   "execution_count": 24,
   "metadata": {},
   "outputs": [],
   "source": [
    "rfc=RandomForestClassifier()\n",
    "rfc.fit(X_train, y_train)\n",
    "pred_rfc=rfc.predict(X_test)"
   ]
  },
  {
   "cell_type": "code",
   "execution_count": 26,
   "metadata": {
    "scrolled": false
   },
   "outputs": [
    {
     "name": "stdout",
     "output_type": "stream",
     "text": [
      "              precision    recall  f1-score   support\n",
      "\n",
      "         1.0       0.72      0.84      0.77      7805\n",
      "         2.0       0.30      0.26      0.28      3180\n",
      "         3.0       0.20      0.11      0.14      1008\n",
      "         4.0       0.44      0.35      0.39      2860\n",
      "         5.0       0.57      0.70      0.63     12038\n",
      "         6.0       0.49      0.23      0.31       319\n",
      "         7.0       0.51      0.42      0.46      5427\n",
      "         8.0       0.29      0.15      0.20      1113\n",
      "         9.0       0.54      0.54      0.54     10726\n",
      "        10.0       0.55      0.35      0.43       583\n",
      "        11.0       0.20      0.06      0.10       723\n",
      "        12.0       0.12      0.03      0.04       223\n",
      "        13.0       0.69      0.66      0.67      3458\n",
      "\n",
      "    accuracy                           0.56     49463\n",
      "   macro avg       0.43      0.36      0.38     49463\n",
      "weighted avg       0.54      0.56      0.55     49463\n",
      "\n",
      "[[6532  138   36  153  259    5   85   11  506    8   13    3   56]\n",
      " [ 310  826   38  104  803   11  209   28  665   20   25    3  138]\n",
      " [  63   63  111   42  245    2   56   14  367    5    8    1   31]\n",
      " [ 404  128   36 1009  684    7  126   21  372   10   10    0   53]\n",
      " [ 317  474   79  384 8481   17  744   89 1228   29   40   15  141]\n",
      " [  23   29    2   26  115   73   11    2   30    1    6    0    1]\n",
      " [ 208  218   38  106 1476   10 2288  105  821   23   24    3  107]\n",
      " [  48   74   19   34  365    3  145  165  194    5    5    5   51]\n",
      " [ 761  561  157  332 1841   18  633   90 5836   48   40    5  404]\n",
      " [  60   51    6   21   93    1   40   10   85  205    1    3    7]\n",
      " [  93   66    9   30  251    2   34    9  164    7   45    5    8]\n",
      " [  18   25    2    7   85    0   17    6   48    3    2    6    4]\n",
      " [ 224  114   21   49  183    1  110   25  450    7    3    1 2270]]\n"
     ]
    }
   ],
   "source": [
    "print(classification_report(y_test, pred_rfc))\n",
    "print(confusion_matrix(y_test, pred_rfc))"
   ]
  },
  {
   "cell_type": "markdown",
   "metadata": {},
   "source": [
    "# SVM Classifier"
   ]
  },
  {
   "cell_type": "code",
   "execution_count": 27,
   "metadata": {},
   "outputs": [],
   "source": [
    "clf=svm.SVC()\n",
    "clf.fit(X_train, y_train)\n",
    "pred_clf=clf.predict(X_test)"
   ]
  },
  {
   "cell_type": "code",
   "execution_count": 28,
   "metadata": {
    "scrolled": false
   },
   "outputs": [
    {
     "name": "stdout",
     "output_type": "stream",
     "text": [
      "              precision    recall  f1-score   support\n",
      "\n",
      "         1.0       0.72      0.70      0.71      7805\n",
      "         2.0       0.35      0.08      0.13      3180\n",
      "         3.0       0.16      0.01      0.01      1008\n",
      "         4.0       0.38      0.18      0.24      2860\n",
      "         5.0       0.45      0.76      0.56     12038\n",
      "         6.0       0.70      0.14      0.23       319\n",
      "         7.0       0.47      0.22      0.30      5427\n",
      "         8.0       0.36      0.07      0.11      1113\n",
      "         9.0       0.47      0.56      0.51     10726\n",
      "        10.0       0.61      0.33      0.43       583\n",
      "        11.0       0.54      0.04      0.07       723\n",
      "        12.0       0.00      0.00      0.00       223\n",
      "        13.0       0.61      0.57      0.59      3458\n",
      "\n",
      "    accuracy                           0.50     49463\n",
      "   macro avg       0.45      0.28      0.30     49463\n",
      "weighted avg       0.49      0.50      0.47     49463\n",
      "\n",
      "[[5482   24    6   88 1338    0   37    5  759    8    3    0   55]\n",
      " [ 246  263    6   80 1326    3  168    6  891   18    3    0  170]\n",
      " [  44   21    6   32  305    1   36    1  511    5    0    0   46]\n",
      " [ 418   49    4  513 1081    0   78    5  601    8    1    0  102]\n",
      " [ 227   99    3  281 9116    8  494   32 1613   16    6    0  143]\n",
      " [  23    9    0    9  177   44    6    0   49    1    0    0    1]\n",
      " [ 170   56    0   49 2513    1 1218   47 1211   10    2    0  150]\n",
      " [  57   18    2   31  477    1  131   76  264    2    0    0   54]\n",
      " [ 575  118   11  214 2844    4  337   29 6035   47    6    0  506]\n",
      " [  60   21    0   11  162    0   20    1  102  194    0    0   12]\n",
      " [  57   26    0   20  358    0   24    5  198    3   26    0    6]\n",
      " [  14    5    0    5   95    0   14    2   80    2    1    0    5]\n",
      " [ 200   45    0   35  510    1   49    1  651    2    0    0 1964]]\n"
     ]
    }
   ],
   "source": [
    "print(classification_report(y_test, pred_clf))\n",
    "print(confusion_matrix(y_test, pred_clf))"
   ]
  },
  {
   "cell_type": "markdown",
   "metadata": {},
   "source": [
    "# Neural Network"
   ]
  },
  {
   "cell_type": "code",
   "execution_count": 29,
   "metadata": {},
   "outputs": [],
   "source": [
    "mlpc=MLPClassifier()\n",
    "mlpc.fit(X_train, y_train)\n",
    "pred_mlpc=mlpc.predict(X_test)"
   ]
  },
  {
   "cell_type": "code",
   "execution_count": 30,
   "metadata": {},
   "outputs": [
    {
     "name": "stdout",
     "output_type": "stream",
     "text": [
      "              precision    recall  f1-score   support\n",
      "\n",
      "         1.0       0.53      0.84      0.65      7805\n",
      "         2.0       0.00      0.00      0.00      3180\n",
      "         3.0       0.00      0.00      0.00      1008\n",
      "         4.0       0.31      0.03      0.06      2860\n",
      "         5.0       0.49      0.66      0.56     12038\n",
      "         6.0       0.00      0.00      0.00       319\n",
      "         7.0       0.43      0.07      0.12      5427\n",
      "         8.0       0.00      0.00      0.00      1113\n",
      "         9.0       0.36      0.50      0.42     10726\n",
      "        10.0       0.40      0.01      0.01       583\n",
      "        11.0       0.00      0.00      0.00       723\n",
      "        12.0       0.00      0.00      0.00       223\n",
      "        13.0       0.45      0.63      0.52      3458\n",
      "\n",
      "    accuracy                           0.45     49463\n",
      "   macro avg       0.23      0.21      0.18     49463\n",
      "weighted avg       0.38      0.45      0.38     49463\n",
      "\n",
      "[[6523    0    0   30  195    0   21    0  769    0    0    0  267]\n",
      " [ 659    0    0   18  843    0   43    0 1244    1    0    0  372]\n",
      " [ 120    1    0    7  252    0    2    0  551    0    0    0   75]\n",
      " [ 835    0    0   89  728    0   21    0  978    0    0    0  209]\n",
      " [ 707    1    0   39 7920    0  195    0 2868    0    0    0  308]\n",
      " [  46    0    0    0  124    0    9    0  137    1    0    0    2]\n",
      " [ 534    0    0   10 2455    0  363    0 1821    1    0    0  243]\n",
      " [ 137    0    0    5  516    0   17    0  348    1    0    0   89]\n",
      " [1537    2    0   55 2526    0  116    0 5384    2    0    0 1104]\n",
      " [ 333    0    0    2   94    0    8    0  134    4    0    0    8]\n",
      " [ 163    0    0    6  255    0   29    0  257    0    0    0   13]\n",
      " [  43    2    0    3   84    0    7    0   77    0    0    0    7]\n",
      " [ 586    0    0   21  135    0   20    0  510    0    0    0 2186]]\n"
     ]
    }
   ],
   "source": [
    "print(classification_report(y_test, pred_mlpc))\n",
    "print(confusion_matrix(y_test, pred_mlpc))"
   ]
  },
  {
   "cell_type": "code",
   "execution_count": 77,
   "metadata": {},
   "outputs": [
    {
     "name": "stdout",
     "output_type": "stream",
     "text": [
      "DecisionTreeClassifier(class_weight=None, criterion='gini', max_depth=None,\n",
      "                       max_features=None, max_leaf_nodes=None,\n",
      "                       min_impurity_decrease=0.0, min_impurity_split=None,\n",
      "                       min_samples_leaf=1, min_samples_split=2,\n",
      "                       min_weight_fraction_leaf=0.0, presort=False,\n",
      "                       random_state=None, splitter='best')\n",
      "Accuracy:  0.4849887794917413\n",
      "Precision:  0.3339935235206631\n",
      "Recall:  0.3413392916647294\n",
      "f1:  0.337437858734924\n",
      "Confusion Matrix: \n",
      " [[5676  248   69  315  319   17  206   58  617   43   78   14  181]\n",
      " [ 248  717   69  150  645   25  300   71  655   48   96   32  167]\n",
      " [  46   87  136   53  208    7  115   26  289   12   17    7   46]\n",
      " [ 298  162   50  964  601   26  146   56  414   21   47    8   85]\n",
      " [ 274  696  196  635 6457   91 1153  341 1662   83  192   71  191]\n",
      " [  14   31    4   18   66   94   13    4   44    7    6    2    6]\n",
      " [ 183  275   97  147 1105   29 2218  206  836   62   77   30  124]\n",
      " [  38   85   31   53  280    6  174  181  175   15   13    5   50]\n",
      " [ 674  707  359  454 1553   37  887  203 5034   89  162   47  452]\n",
      " [  35   27   10   18   83    4   42   16   81  184   12    2   17]\n",
      " [  65   90   26   37  156    8   72    9  140   11   73    3   10]\n",
      " [  15   26    9    7   63    2   27   12   42    3   10   11    3]\n",
      " [ 158  157   50   67  193    0  154   35  419    7   20    3 2244]]\n"
     ]
    }
   ],
   "source": [
    "dtree = DecisionTreeClassifier()\n",
    "dtree.fit(X_train,y_train)\n",
    "pred_dtree = dtree.predict(X_test)\n",
    "\n",
    "print(dtree)\n",
    "print('Accuracy: ',accuracy_score(y_test,pred_dtree))\n",
    "print('Precision: ',precision_score(y_test,pred_dtree,average='macro'))\n",
    "print('Recall: ',recall_score(y_test,pred_dtree,average='macro'))\n",
    "print('f1: ',f1_score(y_test,pred_dtree,average='macro'))\n",
    "print('Confusion Matrix: \\n',confusion_matrix(y_test,pred_dtree))"
   ]
  },
  {
   "cell_type": "code",
   "execution_count": 78,
   "metadata": {},
   "outputs": [
    {
     "name": "stdout",
     "output_type": "stream",
     "text": [
      "              precision    recall  f1-score   support\n",
      "\n",
      "         1.0       0.73      0.72      0.73      7841\n",
      "         2.0       0.22      0.22      0.22      3223\n",
      "         3.0       0.12      0.13      0.13      1049\n",
      "         4.0       0.33      0.33      0.33      2878\n",
      "         5.0       0.55      0.54      0.54     12042\n",
      "         6.0       0.27      0.30      0.29       309\n",
      "         7.0       0.40      0.41      0.41      5389\n",
      "         8.0       0.15      0.16      0.16      1106\n",
      "         9.0       0.48      0.47      0.48     10658\n",
      "        10.0       0.31      0.35      0.33       531\n",
      "        11.0       0.09      0.10      0.10       700\n",
      "        12.0       0.05      0.05      0.05       230\n",
      "        13.0       0.63      0.64      0.63      3507\n",
      "\n",
      "    accuracy                           0.48     49463\n",
      "   macro avg       0.33      0.34      0.34     49463\n",
      "weighted avg       0.49      0.48      0.49     49463\n",
      "\n",
      "[[5676  248   69  315  319   17  206   58  617   43   78   14  181]\n",
      " [ 248  717   69  150  645   25  300   71  655   48   96   32  167]\n",
      " [  46   87  136   53  208    7  115   26  289   12   17    7   46]\n",
      " [ 298  162   50  964  601   26  146   56  414   21   47    8   85]\n",
      " [ 274  696  196  635 6457   91 1153  341 1662   83  192   71  191]\n",
      " [  14   31    4   18   66   94   13    4   44    7    6    2    6]\n",
      " [ 183  275   97  147 1105   29 2218  206  836   62   77   30  124]\n",
      " [  38   85   31   53  280    6  174  181  175   15   13    5   50]\n",
      " [ 674  707  359  454 1553   37  887  203 5034   89  162   47  452]\n",
      " [  35   27   10   18   83    4   42   16   81  184   12    2   17]\n",
      " [  65   90   26   37  156    8   72    9  140   11   73    3   10]\n",
      " [  15   26    9    7   63    2   27   12   42    3   10   11    3]\n",
      " [ 158  157   50   67  193    0  154   35  419    7   20    3 2244]]\n"
     ]
    }
   ],
   "source": [
    "print(classification_report(y_test, pred_dtree))\n",
    "print(confusion_matrix(y_test, pred_dtree))"
   ]
  },
  {
   "cell_type": "code",
   "execution_count": 33,
   "metadata": {},
   "outputs": [
    {
     "name": "stdout",
     "output_type": "stream",
     "text": [
      "LogisticRegression(C=1.0, class_weight=None, dual=False, fit_intercept=True,\n",
      "                   intercept_scaling=1, l1_ratio=None, max_iter=100,\n",
      "                   multi_class='warn', n_jobs=None, penalty='l2',\n",
      "                   random_state=None, solver='warn', tol=0.0001, verbose=0,\n",
      "                   warm_start=False)\n",
      "Accuracy:  0.3763419121363443\n",
      "Precision:  0.1147092923398784\n",
      "Recall:  0.16698555932350978\n",
      "f1:  0.13168185328345589\n",
      "Confusion Matrix: \n",
      " [[5785    0    0    0 1243    0    0    0  297    0    0    0  480]\n",
      " [ 831    0    0    0 1435    0    0    0  667    0    0    0  247]\n",
      " [ 176    0    0    0  577    0    0    0  205    0    0    0   50]\n",
      " [1104    0    0    0 1232    0    0    0  326    0    0    0  198]\n",
      " [1036    0    0    0 9075    0    0    0 1700    0    0    0  227]\n",
      " [  51    0    0    0  189    0    0    0   78    0    0    0    1]\n",
      " [ 713    0    0    0 3325    0    0    0 1219    0    0    0  170]\n",
      " [ 184    0    0    0  638    0    0    0  231    0    0    0   60]\n",
      " [2356    0    0    0 5424    0    0    0 2093    0    0    0  853]\n",
      " [ 235    0    0    0  154    0    0    0  184    0    0    0   10]\n",
      " [ 146    0    0    0  400    0    0    0  163    0    0    0   14]\n",
      " [  45    0    0    0  120    0    0    0   52    0    0    0    6]\n",
      " [1260    0    0    0  328    0    0    0  208    0    0    0 1662]]\n"
     ]
    }
   ],
   "source": [
    "log = LogisticRegression()\n",
    "log.fit(X_train,y_train)\n",
    "log_pred = log.predict(X_test)\n",
    "\n",
    "print(log)\n",
    "print('Accuracy: ',accuracy_score(y_test,log_pred))\n",
    "print('Precision: ',precision_score(y_test,log_pred,average='macro'))\n",
    "print('Recall: ',recall_score(y_test,log_pred,average='macro'))\n",
    "print('f1: ',f1_score(y_test,log_pred,average='macro'))\n",
    "print('Confusion Matrix: \\n',confusion_matrix(y_test,log_pred))"
   ]
  },
  {
   "cell_type": "code",
   "execution_count": 15,
   "metadata": {},
   "outputs": [
    {
     "data": {
      "text/plain": [
       "array([[-8.29346703e-02,  4.41261217e-01,  2.41103798e-01,\n",
       "         4.96424897e-02,  1.95042329e-01, -5.42895472e-01,\n",
       "        -4.52421601e-01],\n",
       "       [ 2.05562970e-02,  1.23730120e-01, -2.71784855e-01,\n",
       "         2.10250420e-02,  7.35860041e-02, -4.52100793e-02,\n",
       "         1.43933138e-01],\n",
       "       [ 2.12320795e-02, -3.68803704e-02,  5.20262664e-02,\n",
       "        -2.38044700e+00,  2.36408667e-01,  2.56173813e-01,\n",
       "         3.49613057e-01],\n",
       "       [ 6.17051828e-02,  7.65433674e-03, -1.74646268e-01,\n",
       "        -2.12112328e+00,  2.58873437e-01,  1.41316179e-01,\n",
       "        -3.11735292e-01],\n",
       "       [-1.16218487e-02, -2.82621667e-01, -5.49369239e-01,\n",
       "        -2.14535640e-01, -2.15432843e-01,  6.49464952e-01,\n",
       "        -7.56742330e-02],\n",
       "       [-2.13427879e-01, -9.33963822e-03, -3.57927452e-01,\n",
       "        -3.22647600e-01,  5.54776430e-01,  6.60479826e-01,\n",
       "         6.77041738e-03],\n",
       "       [-1.11221200e-01, -9.86090090e-02, -5.36826148e-02,\n",
       "        -7.96139608e-02, -6.34364416e-03,  2.59019397e-01,\n",
       "         1.47149661e-01],\n",
       "       [-9.64203442e-02, -1.16290748e-01, -2.36263509e-01,\n",
       "        -2.44317864e+00,  4.47242804e-01,  8.03429098e-01,\n",
       "        -4.52802947e-01],\n",
       "       [-1.66093585e-03,  6.38347867e-02,  8.97274040e-02,\n",
       "        -1.18060938e-01,  4.74459997e-02,  1.49191387e-01,\n",
       "         1.14273159e-01],\n",
       "       [-1.59914479e-01,  9.44516178e-02, -3.70113884e-01,\n",
       "        -1.14146851e+00,  6.10231543e-01,  1.39615754e-01,\n",
       "        -2.31163649e-01],\n",
       "       [ 1.71158152e-01,  7.43383421e-02, -1.63784592e-01,\n",
       "        -2.36990471e-02,  2.83378075e-01,  3.99034764e-01,\n",
       "        -8.49017572e-02],\n",
       "       [ 6.45633731e-02,  6.19486318e-02, -1.91175660e-01,\n",
       "         3.33540865e-02,  2.75057607e-01,  2.93737720e-01,\n",
       "         3.22396100e-02],\n",
       "       [ 3.74233132e-01,  9.65871741e-03, -1.36509349e+00,\n",
       "         8.96644941e-02, -1.73681238e+00, -2.86869897e+00,\n",
       "         7.89424240e-01]])"
      ]
     },
     "execution_count": 15,
     "metadata": {},
     "output_type": "execute_result"
    }
   ],
   "source": [
    "log.coef_\n"
   ]
  },
  {
   "cell_type": "code",
   "execution_count": 16,
   "metadata": {},
   "outputs": [],
   "source": [
    "error_rate = []\n",
    "\n",
    "for i in range(1,20):\n",
    "    \n",
    "    knn = KNeighborsClassifier(n_neighbors=i)\n",
    "    knn.fit(X_tr,y_train)\n",
    "    pred_i = knn.predict(X_te)\n",
    "    error_rate.append(np.mean(pred_i != y_test))\n"
   ]
  },
  {
   "cell_type": "code",
   "execution_count": 17,
   "metadata": {
    "scrolled": false
   },
   "outputs": [
    {
     "data": {
      "image/png": "[encoded data removed]",
      "text/plain": [
       "<Figure size 720x432 with 1 Axes>"
      ]
     },
     "metadata": {
      "needs_background": "light"
     },
     "output_type": "display_data"
    }
   ],
   "source": [
    "plt.figure(figsize=(10,6))\n",
    "plt.plot(range(1,20),error_rate,color='blue', linestyle='dashed', marker='o',\n",
    "         markerfacecolor='red', markersize=10)\n",
    "\n",
    "plt.title('Error Rate vs. K Value',fontsize=18)\n",
    "plt.tick_params(axis='both',size=10, labelsize=18)\n",
    "plt.xlabel('K',fontsize=18)\n",
    "plt.ylabel('Error Rate',fontsize=18);\n"
   ]
  },
  {
   "cell_type": "code",
   "execution_count": 18,
   "metadata": {},
   "outputs": [
    {
     "name": "stdout",
     "output_type": "stream",
     "text": [
      "Fitting 3 folds for each of 6 candidates, totalling 18 fits\n"
     ]
    },
    {
     "name": "stderr",
     "output_type": "stream",
     "text": [
      "[Parallel(n_jobs=-2)]: Using backend LokyBackend with 7 concurrent workers.\n",
      "[Parallel(n_jobs=-2)]: Done  18 out of  18 | elapsed:  6.8min finished\n"
     ]
    },
    {
     "data": {
      "text/plain": [
       "GridSearchCV(cv='warn', error_score='raise-deprecating',\n",
       "             estimator=RandomForestClassifier(bootstrap=True, class_weight=None,\n",
       "                                              criterion='gini', max_depth=None,\n",
       "                                              max_features='auto',\n",
       "                                              max_leaf_nodes=None,\n",
       "                                              min_impurity_decrease=0.0,\n",
       "                                              min_impurity_split=None,\n",
       "                                              min_samples_leaf=1,\n",
       "                                              min_samples_split=2,\n",
       "                                              min_weight_fraction_leaf=0.0,\n",
       "                                              n_estimators='warn', n_jobs=None,\n",
       "                                              oob_score=False,\n",
       "                                              random_state=None, verbose=0,\n",
       "                                              warm_start=False),\n",
       "             iid='warn', n_jobs=-2,\n",
       "             param_grid={'max_features': [3], 'min_samples_leaf': [3, 4],\n",
       "                         'n_estimators': [500, 600, 700]},\n",
       "             pre_dispatch='2*n_jobs', refit=True, return_train_score=False,\n",
       "             scoring=None, verbose=1)"
      ]
     },
     "execution_count": 18,
     "metadata": {},
     "output_type": "execute_result"
    }
   ],
   "source": [
    "parameters = {'n_estimators':[500,600,700],\n",
    "              'max_features':[3],\n",
    "              'min_samples_leaf':[3,4]}\n",
    "model = RandomForestClassifier()\n",
    "grid_search = GridSearchCV(model, parameters, n_jobs=-2, verbose=1)\n",
    "grid_search.fit(X_train,y_train)"
   ]
  },
  {
   "cell_type": "code",
   "execution_count": 19,
   "metadata": {},
   "outputs": [
    {
     "data": {
      "text/plain": [
       "RandomForestClassifier(bootstrap=True, class_weight=None, criterion='gini',\n",
       "                       max_depth=None, max_features=3, max_leaf_nodes=None,\n",
       "                       min_impurity_decrease=0.0, min_impurity_split=None,\n",
       "                       min_samples_leaf=3, min_samples_split=2,\n",
       "                       min_weight_fraction_leaf=0.0, n_estimators=700,\n",
       "                       n_jobs=None, oob_score=False, random_state=None,\n",
       "                       verbose=0, warm_start=False)"
      ]
     },
     "execution_count": 19,
     "metadata": {},
     "output_type": "execute_result"
    }
   ],
   "source": [
    "grid_search.best_estimator_"
   ]
  },
  {
   "cell_type": "code",
   "execution_count": 96,
   "metadata": {},
   "outputs": [],
   "source": [
    "import xgboost as xgb\n",
    "from sklearn.metrics import mean_squared_error, r2_score"
   ]
  },
  {
   "cell_type": "code",
   "execution_count": 97,
   "metadata": {},
   "outputs": [],
   "source": [
    "boost=xgb.XGBRegressor(n_esrimators=700, max_features=3, min_samples_leaf=3, min_samples_split=2,)"
   ]
  },
  {
   "cell_type": "code",
   "execution_count": 98,
   "metadata": {},
   "outputs": [
    {
     "name": "stdout",
     "output_type": "stream",
     "text": [
      "[01:04:44] WARNING: src/objective/regression_obj.cu:152: reg:linear is now deprecated in favor of reg:squarederror.\n"
     ]
    },
    {
     "data": {
      "text/plain": [
       "XGBRegressor(base_score=0.5, booster='gbtree', colsample_bylevel=1,\n",
       "             colsample_bynode=1, colsample_bytree=1, gamma=0,\n",
       "             importance_type='gain', learning_rate=0.1, max_delta_step=0,\n",
       "             max_depth=3, max_features=3, min_child_weight=1,\n",
       "             min_samples_leaf=3, min_samples_split=2, missing=None,\n",
       "             n_esrimators=700, n_estimators=100, n_jobs=1, nthread=None,\n",
       "             objective='reg:linear', random_state=0, reg_alpha=0, reg_lambda=1,\n",
       "             scale_pos_weight=1, seed=None, silent=None, subsample=1,\n",
       "             verbosity=1)"
      ]
     },
     "execution_count": 98,
     "metadata": {},
     "output_type": "execute_result"
    }
   ],
   "source": [
    "boost.fit(X_train,y_train)"
   ]
  },
  {
   "cell_type": "code",
   "execution_count": 99,
   "metadata": {},
   "outputs": [],
   "source": [
    "y_pred_train=boost.predict(X_train)\n",
    "y_pred_test=boost.predict(X_test)"
   ]
  },
  {
   "cell_type": "code",
   "execution_count": 100,
   "metadata": {},
   "outputs": [
    {
     "data": {
      "text/plain": [
       "2.458435443375153"
      ]
     },
     "execution_count": 100,
     "metadata": {},
     "output_type": "execute_result"
    }
   ],
   "source": [
    "RMSE=np.sqrt(mean_squared_error(y_test,y_pred_test))\n",
    "RMSE"
   ]
  },
  {
   "cell_type": "code",
   "execution_count": 101,
   "metadata": {},
   "outputs": [
    {
     "data": {
      "text/plain": [
       "0.2228290817707279"
      ]
     },
     "execution_count": 101,
     "metadata": {},
     "output_type": "execute_result"
    }
   ],
   "source": [
    "r2=r2_score(y_test,y_pred_test)\n",
    "r2"
   ]
  },
  {
   "cell_type": "code",
   "execution_count": 81,
   "metadata": {},
   "outputs": [
    {
     "data": {
      "text/plain": [
       "49463"
      ]
     },
     "execution_count": 81,
     "metadata": {},
     "output_type": "execute_result"
    }
   ],
   "source": [
    "len(X_test)"
   ]
  },
  {
   "cell_type": "code",
   "execution_count": 15,
   "metadata": {},
   "outputs": [
    {
     "data": {
      "text/plain": [
       "RandomForestClassifier(bootstrap=True, class_weight=None, criterion='gini',\n",
       "                       max_depth=None, max_features='auto', max_leaf_nodes=None,\n",
       "                       min_impurity_decrease=0.0, min_impurity_split=None,\n",
       "                       min_samples_leaf=1, min_samples_split=2,\n",
       "                       min_weight_fraction_leaf=0.0, n_estimators=700,\n",
       "                       n_jobs=None, oob_score=False, random_state=None,\n",
       "                       verbose=0, warm_start=False)"
      ]
     },
     "execution_count": 15,
     "metadata": {},
     "output_type": "execute_result"
    }
   ],
   "source": [
    "model=RandomForestClassifier(n_estimators=700,max_features=3,min_samples_leaf=3, min_samples_split=2,)\n",
    "model.fit(X_train,y_train)"
   ]
  },
  {
   "cell_type": "code",
   "execution_count": 16,
   "metadata": {},
   "outputs": [
    {
     "data": {
      "text/plain": [
       "0.5894709176556213"
      ]
     },
     "execution_count": 16,
     "metadata": {},
     "output_type": "execute_result"
    }
   ],
   "source": [
    "model.score(X_test,y_test)"
   ]
  },
  {
   "cell_type": "code",
   "execution_count": 87,
   "metadata": {},
   "outputs": [
    {
     "data": {
      "text/plain": [
       "RandomForestClassifier(bootstrap=True, class_weight=None, criterion='gini',\n",
       "                       max_depth=None, max_features='auto', max_leaf_nodes=None,\n",
       "                       min_impurity_decrease=0.0, min_impurity_split=None,\n",
       "                       min_samples_leaf=1, min_samples_split=2,\n",
       "                       min_weight_fraction_leaf=0.0, n_estimators=10,\n",
       "                       n_jobs=None, oob_score=False, random_state=None,\n",
       "                       verbose=0, warm_start=False)"
      ]
     },
     "execution_count": 87,
     "metadata": {},
     "output_type": "execute_result"
    }
   ],
   "source": [
    "model=RandomForestClassifier()\n",
    "model.fit(X_train,y_train)"
   ]
  },
  {
   "cell_type": "code",
   "execution_count": 17,
   "metadata": {},
   "outputs": [],
   "source": [
    "pred_y=model.predict(X_test)"
   ]
  },
  {
   "cell_type": "code",
   "execution_count": 18,
   "metadata": {},
   "outputs": [
    {
     "data": {
      "text/plain": [
       "array([[6597,   79,   18,  128,  262,    2,   63,   10,  563,   13,   14,\n",
       "           3,   53],\n",
       "       [ 288,  708,   18,   96,  876,    4,  207,   21,  743,   20,   32,\n",
       "           1,  166],\n",
       "       [  50,   35,  100,   40,  255,    2,   49,   12,  407,    7,    7,\n",
       "           1,   43],\n",
       "       [ 360,   88,   22, 1008,  751,    3,  111,   12,  421,   12,    8,\n",
       "           2,   62],\n",
       "       [ 227,  258,   37,  289, 8960,   14,  675,   58, 1277,   29,   38,\n",
       "          11,  165],\n",
       "       [  23,   23,    1,   21,  122,   81,   12,    2,   29,    0,    3,\n",
       "           0,    2],\n",
       "       [ 160,  127,   18,   52, 1433,    4, 2439,   84,  952,    9,   17,\n",
       "           3,  129],\n",
       "       [  42,   36,   17,   23,  393,    3,  136,  161,  227,    7,    9,\n",
       "           2,   57],\n",
       "       [ 646,  358,   85,  273, 1848,   13,  474,   61, 6401,   49,   36,\n",
       "           3,  479],\n",
       "       [  50,   32,    3,   12,  113,    1,   38,   12,   93,  219,    2,\n",
       "           1,    7],\n",
       "       [  77,   57,    7,   26,  271,    1,   37,    3,  181,    6,   46,\n",
       "           1,   10],\n",
       "       [  16,   16,    0,    2,   89,    0,   14,    3,   60,    3,    2,\n",
       "          13,    5],\n",
       "       [ 195,   56,   12,   36,  168,    3,   76,   10,  472,    5,    1,\n",
       "           0, 2424]])"
      ]
     },
     "execution_count": 18,
     "metadata": {},
     "output_type": "execute_result"
    }
   ],
   "source": [
    "cm=confusion_matrix(y_test,pred_y)\n",
    "cm"
   ]
  },
  {
   "cell_type": "code",
   "execution_count": 19,
   "metadata": {},
   "outputs": [],
   "source": [
    "model=SVC()"
   ]
  },
  {
   "cell_type": "code",
   "execution_count": 20,
   "metadata": {},
   "outputs": [
    {
     "data": {
      "text/plain": [
       "SVC(C=1.0, cache_size=200, class_weight=None, coef0=0.0,\n",
       "    decision_function_shape='ovr', degree=3, gamma='auto_deprecated',\n",
       "    kernel='rbf', max_iter=-1, probability=False, random_state=None,\n",
       "    shrinking=True, tol=0.001, verbose=False)"
      ]
     },
     "execution_count": 20,
     "metadata": {},
     "output_type": "execute_result"
    }
   ],
   "source": [
    "model.fit(X_train,y_train)"
   ]
  },
  {
   "cell_type": "code",
   "execution_count": 21,
   "metadata": {},
   "outputs": [
    {
     "data": {
      "text/plain": [
       "0.7061371966277045"
      ]
     },
     "execution_count": 21,
     "metadata": {},
     "output_type": "execute_result"
    }
   ],
   "source": [
    "model.score(X_train,y_train)"
   ]
  },
  {
   "cell_type": "code",
   "execution_count": 22,
   "metadata": {
    "scrolled": true
   },
   "outputs": [
    {
     "data": {
      "text/plain": [
       "SVC(C=1.0, cache_size=200, class_weight=None, coef0=0.0,\n",
       "    decision_function_shape='ovr', degree=3, gamma='auto_deprecated',\n",
       "    kernel='rbf', max_iter=-1, probability=False, random_state=None,\n",
       "    shrinking=True, tol=0.001, verbose=False)"
      ]
     },
     "execution_count": 22,
     "metadata": {},
     "output_type": "execute_result"
    }
   ],
   "source": [
    "model.fit(X_tr,y_train)"
   ]
  },
  {
   "cell_type": "code",
   "execution_count": 23,
   "metadata": {},
   "outputs": [
    {
     "data": {
      "text/plain": [
       "0.47695626933307916"
      ]
     },
     "execution_count": 23,
     "metadata": {},
     "output_type": "execute_result"
    }
   ],
   "source": [
    "model.score(X_tr,y_train)"
   ]
  },
  {
   "cell_type": "markdown",
   "metadata": {},
   "source": [
    "# Predict fire class / fire severity"
   ]
  },
  {
   "cell_type": "code",
   "execution_count": 67,
   "metadata": {},
   "outputs": [],
   "source": [
    "from sklearn import preprocessing\n",
    "enc = preprocessing.LabelEncoder()\n",
    "df1['STAT_CAUSE_DESCR'] = enc.fit_transform(df1['STAT_CAUSE_DESCR'])\n",
    "df1['FIRE_SIZE_CLASS'] = enc.fit_transform(df1['FIRE_SIZE_CLASS'])\n",
    "df1['STATE'] = enc.fit_transform(df1['STATE'])\n",
    "X = df1[['FIRE_YEAR','STATE', 'LATITUDE','LONGITUDE','STAT_CAUSE_DESCR']]\n",
    "y = df1['FIRE_SIZE_CLASS']"
   ]
  },
  {
   "cell_type": "code",
   "execution_count": 68,
   "metadata": {},
   "outputs": [],
   "source": [
    "from sklearn.model_selection import train_test_split \n",
    "X_train, X_test, y_train, y_test = train_test_split(X,y, test_size=0.2)\n",
    "from sklearn.naive_bayes import GaussianNB\n",
    "model = GaussianNB()\n",
    "model.fit(X_train,y_train)\n",
    "y_pred = model.predict(X_test)"
   ]
  },
  {
   "cell_type": "code",
   "execution_count": 69,
   "metadata": {},
   "outputs": [
    {
     "name": "stdout",
     "output_type": "stream",
     "text": [
      "Classification Report\n",
      "              precision    recall  f1-score   support\n",
      "\n",
      "           0       0.63      0.66      0.65     14813\n",
      "           1       0.55      0.66      0.60     14012\n",
      "           2       0.00      0.00      0.00      3314\n",
      "           3       0.00      0.00      0.00       433\n",
      "           4       0.00      0.00      0.00       202\n",
      "           5       0.00      0.00      0.00       114\n",
      "           6       0.14      0.40      0.21        87\n",
      "\n",
      "    accuracy                           0.58     32975\n",
      "   macro avg       0.19      0.25      0.21     32975\n",
      "weighted avg       0.51      0.58      0.55     32975\n",
      "\n",
      "Score for Naive Baye's: 0.5756222564234755\n",
      "Accuracy score: 0.5814404852160728\n"
     ]
    }
   ],
   "source": [
    "from sklearn.metrics import classification_report,accuracy_score  \n",
    "print(\"Classification Report\")\n",
    "print(classification_report(y_test,y_pred))  \n",
    "print(\"Score for Naive Baye's:\",model.score(X_train, y_train))\n",
    "print(\"Accuracy score:\",accuracy_score(y_test,y_pred))"
   ]
  },
  {
   "cell_type": "markdown",
   "metadata": {},
   "source": [
    "# predict fire cause"
   ]
  },
  {
   "cell_type": "code",
   "execution_count": 70,
   "metadata": {},
   "outputs": [],
   "source": [
    "from sklearn import preprocessing\n",
    "enc = preprocessing.LabelEncoder()\n",
    "df1['STAT_CAUSE_DESCR'] = enc.fit_transform(df1['STAT_CAUSE_DESCR'])\n",
    "df1['FIRE_SIZE_CLASS'] = enc.fit_transform(df1['FIRE_SIZE_CLASS'])\n",
    "df1['STATE'] = enc.fit_transform(df1['STATE'])\n",
    "X = df1[['FIRE_YEAR','STATE', 'LATITUDE','LONGITUDE','FIRE_SIZE_CLASS']]\n",
    "y = df1['STAT_CAUSE_DESCR']"
   ]
  },
  {
   "cell_type": "code",
   "execution_count": 71,
   "metadata": {},
   "outputs": [],
   "source": [
    "from sklearn.model_selection import train_test_split \n",
    "X_train, X_test, y_train, y_test = train_test_split(X,y, test_size=0.2)\n",
    "from sklearn.naive_bayes import GaussianNB\n",
    "model = GaussianNB()\n",
    "model.fit(X_train,y_train)\n",
    "y_pred = model.predict(X_test)"
   ]
  },
  {
   "cell_type": "code",
   "execution_count": 72,
   "metadata": {
    "scrolled": false
   },
   "outputs": [
    {
     "name": "stdout",
     "output_type": "stream",
     "text": [
      "Classification Report\n",
      "              precision    recall  f1-score   support\n",
      "\n",
      "           0       0.33      0.01      0.02      3602\n",
      "           1       0.00      0.00      0.00      1865\n",
      "           2       0.00      0.00      0.00       747\n",
      "           3       0.41      0.79      0.54      8066\n",
      "           4       0.00      0.00      0.00      2124\n",
      "           5       0.00      0.00      0.00       350\n",
      "           6       0.40      0.53      0.46      5252\n",
      "           7       0.38      0.30      0.33      7124\n",
      "           8       0.33      0.66      0.44      2349\n",
      "           9       0.00      0.00      0.00       449\n",
      "          10       0.00      0.00      0.00       212\n",
      "          11       0.00      0.00      0.00       685\n",
      "          12       0.00      0.00      0.00       150\n",
      "\n",
      "    accuracy                           0.39     32975\n",
      "   macro avg       0.14      0.18      0.14     32975\n",
      "weighted avg       0.30      0.39      0.31     32975\n",
      "\n",
      "Score for Naive Baye's: 0.38822887209152457\n",
      "Accuracy score: 0.38968915845337376\n"
     ]
    }
   ],
   "source": [
    "from sklearn.metrics import classification_report,accuracy_score  \n",
    "print(\"Classification Report\")\n",
    "print(classification_report(y_test,y_pred))  \n",
    "print(\"Score for Naive Baye's:\",model.score(X_train, y_train))\n",
    "print(\"Accuracy score:\",accuracy_score(y_test,y_pred))"
   ]
  },
  {
   "cell_type": "code",
   "execution_count": null,
   "metadata": {},
   "outputs": [],
   "source": []
  }
 ],
 "metadata": {
  "kernelspec": {
   "display_name": "Python 3",
   "language": "python",
   "name": "python3"
  },
  "language_info": {
   "codemirror_mode": {
    "name": "ipython",
    "version": 3
   },
   "file_extension": ".py",
   "mimetype": "text/x-python",
   "name": "python",
   "nbconvert_exporter": "python",
   "pygments_lexer": "ipython3",
   "version": "3.6.9"
  }
 },
 "nbformat": 4,
 "nbformat_minor": 2
}
