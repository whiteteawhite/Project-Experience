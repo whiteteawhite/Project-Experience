{
 "cells": [
  {
   "cell_type": "code",
   "execution_count": 1,
   "metadata": {},
   "outputs": [
    {
     "ename": "SyntaxError",
     "evalue": "invalid syntax (<ipython-input-1-ac37a67a50ad>, line 1)",
     "output_type": "error",
     "traceback": [
      "\u001b[0;36m  File \u001b[0;32m\"<ipython-input-1-ac37a67a50ad>\"\u001b[0;36m, line \u001b[0;32m1\u001b[0m\n\u001b[0;31m    Theme:\u001b[0m\n\u001b[0m           ^\u001b[0m\n\u001b[0;31mSyntaxError\u001b[0m\u001b[0;31m:\u001b[0m invalid syntax\n"
     ]
    }
   ],
   "source": [
    "Theme: \n",
    "TMDB 5000 Movie Dataset\n",
    "data source location: \n",
    "https://www.kaggle.com/tmdb/tmdb-movie-metadata\n",
    "size of data: \n",
    "4803 rows x  24 columns, 9 MB\n",
    "Hypothesis: \n",
    "The relase date of movie make higher profit is August.\n",
    "The movie genres of comedies make higher profit.\n",
    "Explain:\n",
    "The datasets contains basic information of movie and average vote score in between 1920 to 2017 of many countries. Among them, I will do data pre-processing and cleaning, feature analysis and visualization. "
   ]
  },
  {
   "cell_type": "code",
   "execution_count": null,
   "metadata": {},
   "outputs": [],
   "source": [
    "import pandas as pd\n",
    "import numpy as np\n",
    "import json\n",
    "import matplotlib.pyplot as plt\n",
    "import seaborn as sns\n",
    "import requests\n",
    "plt.style.use('ggplot')\n",
    "%matplotlib inline"
   ]
  },
  {
   "cell_type": "code",
   "execution_count": null,
   "metadata": {},
   "outputs": [],
   "source": [
    "df1 = pd.read_csv('tmdb_5000_movies.csv')\n",
    "df2 = pd.read_csv('tmdb_5000_credits.csv')\n",
    "df1.head(2)"
   ]
  },
  {
   "cell_type": "code",
   "execution_count": null,
   "metadata": {},
   "outputs": [],
   "source": [
    "df2.head(2)"
   ]
  },
  {
   "cell_type": "code",
   "execution_count": null,
   "metadata": {},
   "outputs": [],
   "source": [
    "#merge 2 CSV\n",
    "df = df2.merge(right=df1,how='inner',left_on='movie_id',right_on='id')\n",
    "df.head()"
   ]
  },
  {
   "cell_type": "code",
   "execution_count": null,
   "metadata": {},
   "outputs": [],
   "source": [
    "#check basic info\n",
    "df.info()"
   ]
  },
  {
   "cell_type": "code",
   "execution_count": null,
   "metadata": {},
   "outputs": [],
   "source": [
    "#Checking for NaN\n",
    "N=pd.concat([df.dtypes,df.isnull().sum(),df.isnull().sum()/df.shape[0]], \n",
    "                 axis=1,keys=['dtype','total','percentage'])\n",
    "N_sort=N.sort_values(['percentage'],axis=0,ascending=False)\n",
    "#Print the NaN count greater than zero\n",
    "N_sort.head(20)"
   ]
  },
  {
   "cell_type": "code",
   "execution_count": null,
   "metadata": {},
   "outputs": [],
   "source": [
    "#Remove top 2 high fault rate data and inconsiderable data \n",
    "del df['homepage']\n",
    "del df['tagline']\n",
    "del df['id']\n",
    "del df['original_title']\n",
    "df.head()"
   ]
  },
  {
   "cell_type": "code",
   "execution_count": null,
   "metadata": {},
   "outputs": [],
   "source": [
    "#check missing data of runtime\n",
    "N=df['runtime'].isnull()\n",
    "df.loc[N,:]"
   ]
  },
  {
   "cell_type": "code",
   "execution_count": null,
   "metadata": {},
   "outputs": [],
   "source": [
    "#check missing data of release date\n",
    "N=df['release_date'].isnull()\n",
    "df.loc[N,:]"
   ]
  },
  {
   "cell_type": "code",
   "execution_count": null,
   "metadata": {},
   "outputs": [],
   "source": [
    "df.loc[df['release_date'].isnull()==True]\n",
    "#fill in missing date by online searching, March 1st,2015\n",
    "df['release_date'] = df['release_date'].fillna('2015-03-01')\n",
    "\n",
    "df.loc[df['runtime'].isnull()==True]\n",
    "#fill in missing runtime by online searching, 113mins and 81 mins respectively\n",
    "df['runtime'] = df['runtime'].fillna(113, limit=1)\n",
    "df['runtime'] = df['runtime'].fillna(81, limit=1)\n",
    "#limit to fill in one value once"
   ]
  },
  {
   "cell_type": "code",
   "execution_count": null,
   "metadata": {},
   "outputs": [],
   "source": [
    "#View processing results\n",
    "df.info()"
   ]
  },
  {
   "cell_type": "code",
   "execution_count": null,
   "metadata": {},
   "outputs": [],
   "source": [
    "df[['runtime','popularity','vote_average','vote_count','budget','revenue']].corr()"
   ]
  },
  {
   "cell_type": "code",
   "execution_count": null,
   "metadata": {},
   "outputs": [],
   "source": [
    "revenue = df[['popularity','vote_count','budget','revenue']]"
   ]
  },
  {
   "cell_type": "code",
   "execution_count": null,
   "metadata": {},
   "outputs": [],
   "source": [
    "df.revenue.describe()"
   ]
  },
  {
   "cell_type": "code",
   "execution_count": null,
   "metadata": {},
   "outputs": [],
   "source": [
    "df.budget.describe()"
   ]
  },
  {
   "cell_type": "code",
   "execution_count": null,
   "metadata": {},
   "outputs": [],
   "source": [
    "df['profit']=df['revenue']-df['budget']"
   ]
  },
  {
   "cell_type": "code",
   "execution_count": null,
   "metadata": {},
   "outputs": [],
   "source": [
    "import seaborn as sns\n",
    "sns.heatmap(df.corr(), annot=True, vmax=1, square=True, cmap='Purples')"
   ]
  },
  {
   "cell_type": "code",
   "execution_count": null,
   "metadata": {},
   "outputs": [],
   "source": [
    "# changing the genres column from json to string\n",
    "df['genres']=df['genres'].apply(json.loads)\n",
    "for index,i in zip(df.index,df['genres']):\n",
    "    list1=[]\n",
    "    for j in range(len(i)):\n",
    "        list1.append((i[j]['name']))# the key 'name' contains the name of the genre\n",
    "    df.loc[index,'genres']=str(list1)"
   ]
  },
  {
   "cell_type": "code",
   "execution_count": null,
   "metadata": {},
   "outputs": [],
   "source": [
    "df.head(2)"
   ]
  },
  {
   "cell_type": "code",
   "execution_count": null,
   "metadata": {},
   "outputs": [],
   "source": [
    "df['genres'][1].split(',')#split分隔字符串"
   ]
  },
  {
   "cell_type": "code",
   "execution_count": null,
   "metadata": {},
   "outputs": [],
   "source": [
    "genre = set()\n",
    "for i in df['genres'].str.split(','):\n",
    "    genre=set().union(i,genre)"
   ]
  },
  {
   "cell_type": "code",
   "execution_count": null,
   "metadata": {},
   "outputs": [],
   "source": [
    "#转化为列表\n",
    "genre=list(genre)\n",
    "genre"
   ]
  },
  {
   "cell_type": "code",
   "execution_count": null,
   "metadata": {},
   "outputs": [],
   "source": [
    "#for循环   genre是一个list   genr是一个str\n",
    "for genr in genre:\n",
    "    df[genr] = df['genres'].str.contains(genr).apply(lambda x:1 if x else 0)\n",
    "#str.contains(genr）字符串包含，然后用一个密函数判断"
   ]
  },
  {
   "cell_type": "code",
   "execution_count": null,
   "metadata": {},
   "outputs": [],
   "source": [
    "df_gen_pro=pd.DataFrame(index=genre)"
   ]
  },
  {
   "cell_type": "code",
   "execution_count": null,
   "metadata": {},
   "outputs": [],
   "source": [
    "profit_df = pd.DataFrame()#创建空的数据框\n",
    "profit_df = pd.concat([genre_df.iloc[:,:-1],full['profit']],axis=1)  #合并\n",
    "profit_df.head()#查看新数据框信息"
   ]
  },
  {
   "cell_type": "code",
   "execution_count": null,
   "metadata": {},
   "outputs": [],
   "source": [
    "#求出每种类型的平均利润\n",
    "list=[]#建立一个列表\n",
    "#创建一个循环  list.append（）方法用于在列表末尾添加新的对象\n",
    "for genr in genre:\n",
    "    list.append(df.groupby(genr)['profit'].mean())\n",
    "list2=[]\n",
    "#range(len(list_1))遍历一个list\n",
    "for i in range(len(genre)):\n",
    "    list2.append(list[i][1])\n",
    "df_gen_pro['mean_profit']=list2"
   ]
  },
  {
   "cell_type": "code",
   "execution_count": null,
   "metadata": {},
   "outputs": [],
   "source": [
    "df_gen_pro.sort_values(by='mean_profit',ascending=True).plot.barh(label='genre',figsize=(15,7))\n",
    "plt.title('电影类型的利润条形图',fontsize=20)\n",
    "plt.xlabel('profit',fontsize=20)\n",
    "plt.ylabel('genres',fontsize=20)\n",
    "plt.grid(True)\n",
    "plt.show()"
   ]
  },
  {
   "cell_type": "code",
   "execution_count": null,
   "metadata": {},
   "outputs": [],
   "source": [
    "plt.figure(figsize=(6,4))\n",
    "plt.plot(kind='barh')\n",
    "plt.title('genres profit')\n",
    "plt.xlable('amount')\n",
    "plt.show()"
   ]
  },
  {
   "cell_type": "code",
   "execution_count": null,
   "metadata": {},
   "outputs": [],
   "source": [
    "df.sort_values('revenue', ascending=False)[['title', 'revenue', 'budget', 'genres']][0:10]"
   ]
  },
  {
   "cell_type": "markdown",
   "metadata": {},
   "source": [
    "### "
   ]
  }
 ],
 "metadata": {
  "kernelspec": {
   "display_name": "Python 3",
   "language": "python",
   "name": "python3"
  },
  "language_info": {
   "codemirror_mode": {
    "name": "ipython",
    "version": 3
   },
   "file_extension": ".py",
   "mimetype": "text/x-python",
   "name": "python",
   "nbconvert_exporter": "python",
   "pygments_lexer": "ipython3",
   "version": "3.6.5"
  }
 },
 "nbformat": 4,
 "nbformat_minor": 2
}
